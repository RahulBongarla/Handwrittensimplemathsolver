{
 "cells": [
  {
   "cell_type": "markdown",
   "id": "5c7738d5",
   "metadata": {},
   "source": [
    "# IMPORT LIBRARIES"
   ]
  },
  {
   "cell_type": "code",
   "execution_count": 3,
   "id": "54e005e0",
   "metadata": {},
   "outputs": [
    {
     "name": "stdout",
     "output_type": "stream",
     "text": [
      "Requirement already satisfied: opencv-python in c:\\users\\admin\\anaconda3\\lib\\site-packages (4.7.0.72)\n",
      "Requirement already satisfied: numpy>=1.17.0 in c:\\users\\admin\\anaconda3\\lib\\site-packages (from opencv-python) (1.23.5)\n",
      "Note: you may need to restart the kernel to use updated packages.\n"
     ]
    }
   ],
   "source": [
    "pip install opencv-python"
   ]
  },
  {
   "cell_type": "code",
   "execution_count": 4,
   "id": "c14d0996",
   "metadata": {},
   "outputs": [],
   "source": [
    "import numpy as np\n",
    "import pandas as pd\n",
    "import matplotlib.pyplot as ply\n",
    "import cv2\n",
    "import os\n",
    "from os import listdir\n",
    "from PIL import Image"
   ]
  },
  {
   "cell_type": "markdown",
   "id": "124c674b",
   "metadata": {},
   "source": [
    "# CREATE LOAD IMAGE FUNCTION"
   ]
  },
  {
   "cell_type": "code",
   "execution_count": 5,
   "id": "656a9c15",
   "metadata": {},
   "outputs": [],
   "source": [
    "def load_images_from_folder(folder):\n",
    "    train_data=[]\n",
    "    for filename in os.listdir(folder):\n",
    "        img=cv2.imread(os.path.join(folder,filename),cv2.IMREAD_GRAYSCALE)\n",
    "        img = ~img\n",
    "        if img is not None:\n",
    "            _,thresh=cv2.threshold(img,127,255,cv2.THRESH_BINARY)\n",
    "            ctrs,_=cv2.findContours(thresh,cv2.RETR_EXTERNAL,cv2.CHAIN_APPROX_NONE)\n",
    "            cnt=sorted(ctrs,key=lambda ctr:cv2.boundingRect(ctr)[0])\n",
    "            w=int(28)\n",
    "            h=int(28)\n",
    "            maxi=0\n",
    "            for c in cnt:\n",
    "                x,y,w,h = cv2.boundingRect(c)\n",
    "                maxi=max(w*h,maxi)\n",
    "                if maxi == w*h:\n",
    "                    x_max = x\n",
    "                    y_max = y\n",
    "                    h_max = h\n",
    "                    w_max = w\n",
    "            im_crop = thresh[y_max:y_max+h_max+10,x_max:x_max+w_max+10]\n",
    "            im_resize = cv2.resize(im_crop,(28,28))\n",
    "            im_resize = np.reshape(im_resize,(784,1))\n",
    "            \n",
    "            train_data.append(im_resize)\n",
    "    return train_data\n"
   ]
  },
  {
   "cell_type": "markdown",
   "id": "e4cbb37a",
   "metadata": {},
   "source": [
    "# LOAD THE DATASET"
   ]
  },
  {
   "cell_type": "code",
   "execution_count": 23,
   "id": "2da88612",
   "metadata": {},
   "outputs": [],
   "source": [
    "data =[]"
   ]
  },
  {
   "cell_type": "code",
   "execution_count": 24,
   "id": "d73ef1e6",
   "metadata": {},
   "outputs": [
    {
     "name": "stdout",
     "output_type": "stream",
     "text": [
      "549\n"
     ]
    }
   ],
   "source": [
    "#Assign values \"-\" with 10\n",
    "data = load_images_from_folder(\"C:/Users/Admin/Desktop/Internship/Data sets/Handwritten math symbol and digit dataset/archive (2)/train/minus\")\n",
    "len(data)\n",
    "for i in range(0,len(data)):\n",
    "    data[i]=np.append(data[i],[\"10\"])\n",
    "print(len(data))"
   ]
  },
  {
   "cell_type": "code",
   "execution_count": 25,
   "id": "49feb23b",
   "metadata": {},
   "outputs": [
    {
     "name": "stdout",
     "output_type": "stream",
     "text": [
      "1094\n"
     ]
    }
   ],
   "source": [
    "#Assign values \"+\" with 11\n",
    "data11 = load_images_from_folder(\"C:/Users/Admin/Desktop/Internship/Data sets/Handwritten math symbol and digit dataset/archive (2)/train/plus cleaned\")\n",
    "len(data11)\n",
    "for i in range(0,len(data11)):\n",
    "    data11[i]=np.append(data11[i],[\"11\"])\n",
    "data=np.concatenate((data,data11))\n",
    "print(len(data))"
   ]
  },
  {
   "cell_type": "code",
   "execution_count": 26,
   "id": "a9ea426a",
   "metadata": {},
   "outputs": [
    {
     "name": "stdout",
     "output_type": "stream",
     "text": [
      "1520\n"
     ]
    }
   ],
   "source": [
    "#Assign values \"0\" with 0\n",
    "data0 = load_images_from_folder(\"C:/Users/Admin/Desktop/Internship/Data sets/Handwritten math symbol and digit dataset/archive (2)/train/zero\")\n",
    "len(data0)\n",
    "for i in range(0,len(data0)):\n",
    "    data0[i]=np.append(data0[i],[\"0\"])\n",
    "data=np.concatenate((data,data0))\n",
    "print(len(data))"
   ]
  },
  {
   "cell_type": "code",
   "execution_count": 27,
   "id": "4e238032",
   "metadata": {},
   "outputs": [
    {
     "name": "stdout",
     "output_type": "stream",
     "text": [
      "1952\n"
     ]
    }
   ],
   "source": [
    "#Assign values \"1\" with 1\n",
    "data1 = load_images_from_folder(\"C:/Users/Admin/Desktop/Internship/Data sets/Handwritten math symbol and digit dataset/archive (2)/train/one\")\n",
    "len(data1)\n",
    "for i in range(0,len(data1)):\n",
    "    data1[i]=np.append(data1[i],[\"1\"])\n",
    "data=np.concatenate((data,data1))\n",
    "print(len(data))"
   ]
  },
  {
   "cell_type": "code",
   "execution_count": 28,
   "id": "10f5d570",
   "metadata": {},
   "outputs": [
    {
     "name": "stdout",
     "output_type": "stream",
     "text": [
      "2382\n"
     ]
    }
   ],
   "source": [
    "#Assign values \"2\" with 2\n",
    "data2 = load_images_from_folder(\"C:/Users/Admin/Desktop/Internship/Data sets/Handwritten math symbol and digit dataset/archive (2)/train/two\")\n",
    "len(data2)\n",
    "for i in range(0,len(data2)):\n",
    "    data2[i]=np.append(data2[i],[\"2\"])\n",
    "data=np.concatenate((data,data2))\n",
    "print(len(data))"
   ]
  },
  {
   "cell_type": "code",
   "execution_count": 29,
   "id": "ce9a4427",
   "metadata": {},
   "outputs": [
    {
     "name": "stdout",
     "output_type": "stream",
     "text": [
      "2811\n"
     ]
    }
   ],
   "source": [
    "#Assign values \"3\" with 3\n",
    "data3 = load_images_from_folder(\"C:/Users/Admin/Desktop/Internship/Data sets/Handwritten math symbol and digit dataset/archive (2)/train/three\")\n",
    "len(data3)\n",
    "for i in range(0,len(data3)):\n",
    "    data3[i]=np.append(data3[i],[\"3\"])\n",
    "data=np.concatenate((data,data3))\n",
    "print(len(data))"
   ]
  },
  {
   "cell_type": "code",
   "execution_count": 30,
   "id": "e7305ebc",
   "metadata": {},
   "outputs": [
    {
     "name": "stdout",
     "output_type": "stream",
     "text": [
      "3242\n"
     ]
    }
   ],
   "source": [
    "#Assign values \"4\" with 4\n",
    "data4 = load_images_from_folder(\"C:/Users/Admin/Desktop/Internship/Data sets/Handwritten math symbol and digit dataset/archive (2)/train/four\")\n",
    "len(data4)\n",
    "for i in range(0,len(data4)):\n",
    "    data4[i]=np.append(data4[i],[\"4\"])\n",
    "data=np.concatenate((data,data4))\n",
    "print(len(data))"
   ]
  },
  {
   "cell_type": "code",
   "execution_count": 31,
   "id": "02e294ae",
   "metadata": {},
   "outputs": [
    {
     "name": "stdout",
     "output_type": "stream",
     "text": [
      "3673\n"
     ]
    }
   ],
   "source": [
    "#Assign values \"5\" with 5\n",
    "data5 = load_images_from_folder(\"C:/Users/Admin/Desktop/Internship/Data sets/Handwritten math symbol and digit dataset/archive (2)/train/five\")\n",
    "len(data5)\n",
    "for i in range(0,len(data5)):\n",
    "    data5[i]=np.append(data5[i],[\"5\"])\n",
    "data=np.concatenate((data,data5))\n",
    "print(len(data))"
   ]
  },
  {
   "cell_type": "code",
   "execution_count": 32,
   "id": "f6b581d2",
   "metadata": {},
   "outputs": [
    {
     "name": "stdout",
     "output_type": "stream",
     "text": [
      "4102\n"
     ]
    }
   ],
   "source": [
    "#Assign values \"6\" with 6\n",
    "data6 = load_images_from_folder(\"C:/Users/Admin/Desktop/Internship/Data sets/Handwritten math symbol and digit dataset/archive (2)/train/six\")\n",
    "len(data6)\n",
    "for i in range(0,len(data6)):\n",
    "    data6[i]=np.append(data6[i],[\"6\"])\n",
    "data=np.concatenate((data,data6))\n",
    "print(len(data))"
   ]
  },
  {
   "cell_type": "code",
   "execution_count": 33,
   "id": "80775592",
   "metadata": {},
   "outputs": [
    {
     "name": "stdout",
     "output_type": "stream",
     "text": [
      "4532\n"
     ]
    }
   ],
   "source": [
    "#Assign values \"7\" with 7\n",
    "data7 = load_images_from_folder(\"C:/Users/Admin/Desktop/Internship/Data sets/Handwritten math symbol and digit dataset/archive (2)/train/seven\")\n",
    "len(data7)\n",
    "for i in range(0,len(data7)):\n",
    "    data7[i]=np.append(data7[i],[\"7\"])\n",
    "data=np.concatenate((data,data7))\n",
    "print(len(data))"
   ]
  },
  {
   "cell_type": "code",
   "execution_count": 34,
   "id": "ecbc6ece",
   "metadata": {},
   "outputs": [
    {
     "name": "stdout",
     "output_type": "stream",
     "text": [
      "4961\n"
     ]
    }
   ],
   "source": [
    "#Assign values \"8\" with 8\n",
    "data8 = load_images_from_folder(\"C:/Users/Admin/Desktop/Internship/Data sets/Handwritten math symbol and digit dataset/archive (2)/train/eight\")\n",
    "len(data8)\n",
    "for i in range(0,len(data8)):\n",
    "    data8[i]=np.append(data8[i],[\"8\"])\n",
    "data=np.concatenate((data,data8))\n",
    "print(len(data))"
   ]
  },
  {
   "cell_type": "code",
   "execution_count": 35,
   "id": "dd84a390",
   "metadata": {},
   "outputs": [
    {
     "name": "stdout",
     "output_type": "stream",
     "text": [
      "5391\n"
     ]
    }
   ],
   "source": [
    "#Assign values \"9\" with 9\n",
    "data9 = load_images_from_folder(\"C:/Users/Admin/Desktop/Internship/Data sets/Handwritten math symbol and digit dataset/archive (2)/train/nine\")\n",
    "len(data9)\n",
    "for i in range(0,len(data9)):\n",
    "    data9[i]=np.append(data9[i],[\"9\"])\n",
    "data=np.concatenate((data,data9))\n",
    "print(len(data))"
   ]
  },
  {
   "cell_type": "code",
   "execution_count": 36,
   "id": "fbf56177",
   "metadata": {},
   "outputs": [
    {
     "name": "stdout",
     "output_type": "stream",
     "text": [
      "5946\n"
     ]
    }
   ],
   "source": [
    "#Assign values \"*\" with 12\n",
    "data12 = load_images_from_folder(\"C:/Users/Admin/Desktop/Internship/Data sets/Handwritten math symbol and digit dataset/archive (2)/train/times\")\n",
    "len(data12)\n",
    "for i in range(0,len(data12)):\n",
    "    data12[i]=np.append(data12[i],[\"12\"])\n",
    "data=np.concatenate((data,data12))\n",
    "print(len(data))"
   ]
  },
  {
   "cell_type": "markdown",
   "id": "2b1b6597",
   "metadata": {},
   "source": [
    "# Conversion of Data into CSV"
   ]
  },
  {
   "cell_type": "code",
   "execution_count": 37,
   "id": "ef6878a4",
   "metadata": {},
   "outputs": [],
   "source": [
    "df= pd.DataFrame(data,index=None)\n",
    "df.to_csv(\"train_final.csv\",index=False)"
   ]
  },
  {
   "cell_type": "code",
   "execution_count": null,
   "id": "62e592bf",
   "metadata": {},
   "outputs": [],
   "source": []
  }
 ],
 "metadata": {
  "kernelspec": {
   "display_name": "Python 3 (ipykernel)",
   "language": "python",
   "name": "python3"
  },
  "language_info": {
   "codemirror_mode": {
    "name": "ipython",
    "version": 3
   },
   "file_extension": ".py",
   "mimetype": "text/x-python",
   "name": "python",
   "nbconvert_exporter": "python",
   "pygments_lexer": "ipython3",
   "version": "3.9.13"
  }
 },
 "nbformat": 4,
 "nbformat_minor": 5
}
